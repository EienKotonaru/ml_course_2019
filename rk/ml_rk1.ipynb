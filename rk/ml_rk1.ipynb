{
  "nbformat": 4,
  "nbformat_minor": 0,
  "metadata": {
    "colab": {
      "name": "ml_rk1.ipynb",
      "version": "0.3.2",
      "provenance": []
    },
    "kernelspec": {
      "name": "python3",
      "display_name": "Python 3"
    }
  },
  "cells": [
    {
      "cell_type": "markdown",
      "metadata": {
        "id": "mG7uvVFJ1Eb4",
        "colab_type": "text"
      },
      "source": [
        "## Вариант №3."
      ]
    },
    {
      "cell_type": "markdown",
      "metadata": {
        "id": "x7yfi3o61SNh",
        "colab_type": "text"
      },
      "source": [
        "Для заданного набора данных произведите масштабирование данных (для одного признака) и преобразование категориальных признаков в количественные двумя способами (label encoding, one hot encoding) для одного признака. Какие методы Вы использовали для решения задачи и почему?"
      ]
    },
    {
      "cell_type": "code",
      "metadata": {
        "id": "n85YyTie0BbW",
        "colab_type": "code",
        "outputId": "68c83355-4b3d-490d-a22f-1a6fbbf22a1f",
        "colab": {
          "base_uri": "https://localhost:8080/",
          "height": 51
        }
      },
      "source": [
        "!pip install -U -q PyDrive\n",
        "import os\n",
        "from pydrive.auth import GoogleAuth\n",
        "from pydrive.drive import GoogleDrive\n",
        "from google.colab import auth\n",
        "from oauth2client.client import GoogleCredentials"
      ],
      "execution_count": 0,
      "outputs": [
        {
          "output_type": "stream",
          "text": [
            "\u001b[?25l\r\u001b[K    1% |▎                               | 10kB 14.5MB/s eta 0:00:01\r\u001b[K    2% |▋                               | 20kB 1.8MB/s eta 0:00:01\r\u001b[K    3% |█                               | 30kB 2.6MB/s eta 0:00:01\r\u001b[K    4% |█▎                              | 40kB 1.7MB/s eta 0:00:01\r\u001b[K    5% |█▋                              | 51kB 2.1MB/s eta 0:00:01\r\u001b[K    6% |██                              | 61kB 2.5MB/s eta 0:00:01\r\u001b[K    7% |██▎                             | 71kB 2.8MB/s eta 0:00:01\r\u001b[K    8% |██▋                             | 81kB 3.2MB/s eta 0:00:01\r\u001b[K    9% |███                             | 92kB 3.5MB/s eta 0:00:01\r\u001b[K    10% |███▎                            | 102kB 2.7MB/s eta 0:00:01\r\u001b[K    11% |███▋                            | 112kB 2.8MB/s eta 0:00:01\r\u001b[K    12% |████                            | 122kB 3.9MB/s eta 0:00:01\r\u001b[K    13% |████▎                           | 133kB 3.9MB/s eta 0:00:01\r\u001b[K    14% |████▋                           | 143kB 7.2MB/s eta 0:00:01\r\u001b[K    15% |█████                           | 153kB 7.3MB/s eta 0:00:01\r\u001b[K    16% |█████▎                          | 163kB 7.4MB/s eta 0:00:01\r\u001b[K    17% |█████▋                          | 174kB 7.4MB/s eta 0:00:01\r\u001b[K    18% |██████                          | 184kB 7.5MB/s eta 0:00:01\r\u001b[K    19% |██████▎                         | 194kB 7.5MB/s eta 0:00:01\r\u001b[K    20% |██████▋                         | 204kB 34.1MB/s eta 0:00:01\r\u001b[K    21% |███████                         | 215kB 8.1MB/s eta 0:00:01\r\u001b[K    22% |███████▎                        | 225kB 8.0MB/s eta 0:00:01\r\u001b[K    23% |███████▋                        | 235kB 8.1MB/s eta 0:00:01\r\u001b[K    24% |████████                        | 245kB 8.1MB/s eta 0:00:01\r\u001b[K    25% |████████▎                       | 256kB 8.1MB/s eta 0:00:01\r\u001b[K    26% |████████▋                       | 266kB 7.9MB/s eta 0:00:01\r\u001b[K    27% |█████████                       | 276kB 8.0MB/s eta 0:00:01\r\u001b[K    29% |█████████▎                      | 286kB 7.9MB/s eta 0:00:01\r\u001b[K    30% |█████████▋                      | 296kB 7.9MB/s eta 0:00:01\r\u001b[K    31% |██████████                      | 307kB 8.1MB/s eta 0:00:01\r\u001b[K    32% |██████████▎                     | 317kB 37.3MB/s eta 0:00:01\r\u001b[K    33% |██████████▋                     | 327kB 39.6MB/s eta 0:00:01\r\u001b[K    34% |███████████                     | 337kB 40.4MB/s eta 0:00:01\r\u001b[K    35% |███████████▎                    | 348kB 37.3MB/s eta 0:00:01\r\u001b[K    36% |███████████▋                    | 358kB 38.2MB/s eta 0:00:01\r\u001b[K    37% |████████████                    | 368kB 43.4MB/s eta 0:00:01\r\u001b[K    38% |████████████▎                   | 378kB 43.7MB/s eta 0:00:01\r\u001b[K    39% |████████████▋                   | 389kB 46.5MB/s eta 0:00:01\r\u001b[K    40% |█████████████                   | 399kB 9.8MB/s eta 0:00:01\r\u001b[K    41% |█████████████▎                  | 409kB 9.4MB/s eta 0:00:01\r\u001b[K    42% |█████████████▋                  | 419kB 9.4MB/s eta 0:00:01\r\u001b[K    43% |██████████████                  | 430kB 9.4MB/s eta 0:00:01\r\u001b[K    44% |██████████████▎                 | 440kB 9.2MB/s eta 0:00:01\r\u001b[K    45% |██████████████▋                 | 450kB 9.3MB/s eta 0:00:01\r\u001b[K    46% |███████████████                 | 460kB 9.1MB/s eta 0:00:01\r\u001b[K    47% |███████████████▎                | 471kB 9.1MB/s eta 0:00:01\r\u001b[K    48% |███████████████▋                | 481kB 9.1MB/s eta 0:00:01\r\u001b[K    49% |████████████████                | 491kB 9.1MB/s eta 0:00:01\r\u001b[K    50% |████████████████▎               | 501kB 35.0MB/s eta 0:00:01\r\u001b[K    51% |████████████████▋               | 512kB 35.4MB/s eta 0:00:01\r\u001b[K    52% |█████████████████               | 522kB 35.9MB/s eta 0:00:01\r\u001b[K    53% |█████████████████▎              | 532kB 37.1MB/s eta 0:00:01\r\u001b[K    54% |█████████████████▋              | 542kB 39.4MB/s eta 0:00:01\r\u001b[K    55% |██████████████████              | 552kB 42.4MB/s eta 0:00:01\r\u001b[K    57% |██████████████████▎             | 563kB 45.2MB/s eta 0:00:01\r\u001b[K    58% |██████████████████▋             | 573kB 46.5MB/s eta 0:00:01\r\u001b[K    59% |███████████████████             | 583kB 47.5MB/s eta 0:00:01\r\u001b[K    60% |███████████████████▎            | 593kB 47.9MB/s eta 0:00:01\r\u001b[K    61% |███████████████████▋            | 604kB 47.2MB/s eta 0:00:01\r\u001b[K    62% |████████████████████            | 614kB 54.2MB/s eta 0:00:01\r\u001b[K    63% |████████████████████▎           | 624kB 54.2MB/s eta 0:00:01\r\u001b[K    64% |████████████████████▋           | 634kB 54.7MB/s eta 0:00:01\r\u001b[K    65% |█████████████████████           | 645kB 54.9MB/s eta 0:00:01\r\u001b[K    66% |█████████████████████▎          | 655kB 53.9MB/s eta 0:00:01\r\u001b[K    67% |█████████████████████▋          | 665kB 41.9MB/s eta 0:00:01\r\u001b[K    68% |██████████████████████          | 675kB 41.6MB/s eta 0:00:01\r\u001b[K    69% |██████████████████████▎         | 686kB 40.9MB/s eta 0:00:01\r\u001b[K    70% |██████████████████████▋         | 696kB 40.9MB/s eta 0:00:01\r\u001b[K    71% |███████████████████████         | 706kB 41.7MB/s eta 0:00:01\r\u001b[K    72% |███████████████████████▎        | 716kB 42.2MB/s eta 0:00:01\r\u001b[K    73% |███████████████████████▋        | 727kB 14.0MB/s eta 0:00:01\r\u001b[K    74% |████████████████████████        | 737kB 13.4MB/s eta 0:00:01\r\u001b[K    75% |████████████████████████▎       | 747kB 13.2MB/s eta 0:00:01\r\u001b[K    76% |████████████████████████▋       | 757kB 13.2MB/s eta 0:00:01\r\u001b[K    77% |████████████████████████▉       | 768kB 14.2MB/s eta 0:00:01\r\u001b[K    78% |█████████████████████████▏      | 778kB 14.2MB/s eta 0:00:01\r\u001b[K    79% |█████████████████████████▌      | 788kB 14.2MB/s eta 0:00:01\r\u001b[K    80% |█████████████████████████▉      | 798kB 14.2MB/s eta 0:00:01\r\u001b[K    81% |██████████████████████████▏     | 808kB 14.2MB/s eta 0:00:01\r\u001b[K    82% |██████████████████████████▌     | 819kB 14.1MB/s eta 0:00:01\r\u001b[K    83% |██████████████████████████▉     | 829kB 42.9MB/s eta 0:00:01\r\u001b[K    85% |███████████████████████████▏    | 839kB 48.1MB/s eta 0:00:01\r\u001b[K    86% |███████████████████████████▌    | 849kB 51.6MB/s eta 0:00:01\r\u001b[K    87% |███████████████████████████▉    | 860kB 43.8MB/s eta 0:00:01\r\u001b[K    88% |████████████████████████████▏   | 870kB 43.4MB/s eta 0:00:01\r\u001b[K    89% |████████████████████████████▌   | 880kB 44.7MB/s eta 0:00:01\r\u001b[K    90% |████████████████████████████▉   | 890kB 45.2MB/s eta 0:00:01\r\u001b[K    91% |█████████████████████████████▏  | 901kB 44.7MB/s eta 0:00:01\r\u001b[K    92% |█████████████████████████████▌  | 911kB 43.5MB/s eta 0:00:01\r\u001b[K    93% |█████████████████████████████▉  | 921kB 44.1MB/s eta 0:00:01\r\u001b[K    94% |██████████████████████████████▏ | 931kB 45.3MB/s eta 0:00:01\r\u001b[K    95% |██████████████████████████████▌ | 942kB 45.9MB/s eta 0:00:01\r\u001b[K    96% |██████████████████████████████▉ | 952kB 45.5MB/s eta 0:00:01\r\u001b[K    97% |███████████████████████████████▏| 962kB 56.0MB/s eta 0:00:01\r\u001b[K    98% |███████████████████████████████▌| 972kB 55.6MB/s eta 0:00:01\r\u001b[K    99% |███████████████████████████████▉| 983kB 55.3MB/s eta 0:00:01\r\u001b[K    100% |████████████████████████████████| 993kB 16.8MB/s \n",
            "\u001b[?25h  Building wheel for PyDrive (setup.py) ... \u001b[?25ldone\n",
            "\u001b[?25h"
          ],
          "name": "stdout"
        }
      ]
    },
    {
      "cell_type": "code",
      "metadata": {
        "id": "WRqqAVaF1YEn",
        "colab_type": "code",
        "colab": {}
      },
      "source": [
        "# 1. Authenticate and create the PyDrive client.\n",
        "auth.authenticate_user()\n",
        "gauth = GoogleAuth()\n",
        "gauth.credentials = GoogleCredentials.get_application_default()\n",
        "drive = GoogleDrive(gauth)"
      ],
      "execution_count": 0,
      "outputs": []
    },
    {
      "cell_type": "code",
      "metadata": {
        "id": "K5TdeovP1b5G",
        "colab_type": "code",
        "colab": {}
      },
      "source": [
        "# choose a local (colab) directory to store the data.\n",
        "local_download_path = os.path.expanduser('~/data')\n",
        "try:\n",
        "  os.makedirs(local_download_path)\n",
        "except: pass"
      ],
      "execution_count": 0,
      "outputs": []
    },
    {
      "cell_type": "code",
      "metadata": {
        "id": "G1ZcGM_11pPC",
        "colab_type": "code",
        "colab": {}
      },
      "source": [
        "# 2. Auto-iterate using the query syntax\n",
        "#    https://developers.google.com/drive/v2/web/search-parameters\n",
        "file_list = drive.ListFile(\n",
        "    {'q': \"title='marvel-wikia-data.csv'\"}).GetList()"
      ],
      "execution_count": 0,
      "outputs": []
    },
    {
      "cell_type": "code",
      "metadata": {
        "id": "PMnniJNF1sL2",
        "colab_type": "code",
        "outputId": "2b1fcf52-cd0e-49c2-f020-03531f140d12",
        "colab": {
          "base_uri": "https://localhost:8080/",
          "height": 51
        }
      },
      "source": [
        "for f in file_list:\n",
        "  # 3. Create & download by id.\n",
        "  print('title: %s, id: %s' % (f['title'], f['id']))\n",
        "  fname = os.path.join(local_download_path, f['title'])\n",
        "  print('downloading to {}'.format(fname))\n",
        "  f_ = drive.CreateFile({'id': f['id']})\n",
        "  f_.GetContentFile(fname)"
      ],
      "execution_count": 0,
      "outputs": [
        {
          "output_type": "stream",
          "text": [
            "title: marvel-wikia-data.csv, id: 13cxPBv_yFaIDde7XczTL31j3bo7013s0\n",
            "downloading to /root/data/marvel-wikia-data.csv\n"
          ],
          "name": "stdout"
        }
      ]
    },
    {
      "cell_type": "code",
      "metadata": {
        "id": "CPphwmI51xs5",
        "colab_type": "code",
        "colab": {}
      },
      "source": [
        "import numpy as np\n",
        "import pandas as pd\n",
        "import matplotlib.pyplot as plt\n",
        "%matplotlib inline \n",
        "sns.set(style=\"ticks\")"
      ],
      "execution_count": 0,
      "outputs": []
    },
    {
      "cell_type": "code",
      "metadata": {
        "id": "jnwR6ii31zic",
        "colab_type": "code",
        "colab": {}
      },
      "source": [
        "data = pd.read_csv(fname, sep=\",\")\n",
        "# data = data.dropna(axis=0, how='any')"
      ],
      "execution_count": 0,
      "outputs": []
    },
    {
      "cell_type": "code",
      "metadata": {
        "id": "8Kr-uLau11_Y",
        "colab_type": "code",
        "outputId": "eb8dfb58-1b85-461d-aef8-65dce6923516",
        "colab": {
          "base_uri": "https://localhost:8080/",
          "height": 889
        }
      },
      "source": [
        "data.head(10)"
      ],
      "execution_count": 0,
      "outputs": [
        {
          "output_type": "execute_result",
          "data": {
            "text/html": [
              "<div>\n",
              "<style scoped>\n",
              "    .dataframe tbody tr th:only-of-type {\n",
              "        vertical-align: middle;\n",
              "    }\n",
              "\n",
              "    .dataframe tbody tr th {\n",
              "        vertical-align: top;\n",
              "    }\n",
              "\n",
              "    .dataframe thead th {\n",
              "        text-align: right;\n",
              "    }\n",
              "</style>\n",
              "<table border=\"1\" class=\"dataframe\">\n",
              "  <thead>\n",
              "    <tr style=\"text-align: right;\">\n",
              "      <th></th>\n",
              "      <th>page_id</th>\n",
              "      <th>name</th>\n",
              "      <th>urlslug</th>\n",
              "      <th>ID</th>\n",
              "      <th>ALIGN</th>\n",
              "      <th>EYE</th>\n",
              "      <th>HAIR</th>\n",
              "      <th>SEX</th>\n",
              "      <th>GSM</th>\n",
              "      <th>ALIVE</th>\n",
              "      <th>APPEARANCES</th>\n",
              "      <th>FIRST APPEARANCE</th>\n",
              "      <th>Year</th>\n",
              "    </tr>\n",
              "  </thead>\n",
              "  <tbody>\n",
              "    <tr>\n",
              "      <th>0</th>\n",
              "      <td>1678</td>\n",
              "      <td>Spider-Man (Peter Parker)</td>\n",
              "      <td>\\/Spider-Man_(Peter_Parker)</td>\n",
              "      <td>Secret Identity</td>\n",
              "      <td>Good Characters</td>\n",
              "      <td>Hazel Eyes</td>\n",
              "      <td>Brown Hair</td>\n",
              "      <td>Male Characters</td>\n",
              "      <td>NaN</td>\n",
              "      <td>Living Characters</td>\n",
              "      <td>4043.0</td>\n",
              "      <td>Aug-62</td>\n",
              "      <td>1962.0</td>\n",
              "    </tr>\n",
              "    <tr>\n",
              "      <th>1</th>\n",
              "      <td>7139</td>\n",
              "      <td>Captain America (Steven Rogers)</td>\n",
              "      <td>\\/Captain_America_(Steven_Rogers)</td>\n",
              "      <td>Public Identity</td>\n",
              "      <td>Good Characters</td>\n",
              "      <td>Blue Eyes</td>\n",
              "      <td>White Hair</td>\n",
              "      <td>Male Characters</td>\n",
              "      <td>NaN</td>\n",
              "      <td>Living Characters</td>\n",
              "      <td>3360.0</td>\n",
              "      <td>Mar-41</td>\n",
              "      <td>1941.0</td>\n",
              "    </tr>\n",
              "    <tr>\n",
              "      <th>2</th>\n",
              "      <td>64786</td>\n",
              "      <td>Wolverine (James \\\"Logan\\\" Howlett)</td>\n",
              "      <td>\\/Wolverine_(James_%22Logan%22_Howlett)</td>\n",
              "      <td>Public Identity</td>\n",
              "      <td>Neutral Characters</td>\n",
              "      <td>Blue Eyes</td>\n",
              "      <td>Black Hair</td>\n",
              "      <td>Male Characters</td>\n",
              "      <td>NaN</td>\n",
              "      <td>Living Characters</td>\n",
              "      <td>3061.0</td>\n",
              "      <td>Oct-74</td>\n",
              "      <td>1974.0</td>\n",
              "    </tr>\n",
              "    <tr>\n",
              "      <th>3</th>\n",
              "      <td>1868</td>\n",
              "      <td>Iron Man (Anthony \\\"Tony\\\" Stark)</td>\n",
              "      <td>\\/Iron_Man_(Anthony_%22Tony%22_Stark)</td>\n",
              "      <td>Public Identity</td>\n",
              "      <td>Good Characters</td>\n",
              "      <td>Blue Eyes</td>\n",
              "      <td>Black Hair</td>\n",
              "      <td>Male Characters</td>\n",
              "      <td>NaN</td>\n",
              "      <td>Living Characters</td>\n",
              "      <td>2961.0</td>\n",
              "      <td>Mar-63</td>\n",
              "      <td>1963.0</td>\n",
              "    </tr>\n",
              "    <tr>\n",
              "      <th>4</th>\n",
              "      <td>2460</td>\n",
              "      <td>Thor (Thor Odinson)</td>\n",
              "      <td>\\/Thor_(Thor_Odinson)</td>\n",
              "      <td>No Dual Identity</td>\n",
              "      <td>Good Characters</td>\n",
              "      <td>Blue Eyes</td>\n",
              "      <td>Blond Hair</td>\n",
              "      <td>Male Characters</td>\n",
              "      <td>NaN</td>\n",
              "      <td>Living Characters</td>\n",
              "      <td>2258.0</td>\n",
              "      <td>Nov-50</td>\n",
              "      <td>1950.0</td>\n",
              "    </tr>\n",
              "    <tr>\n",
              "      <th>5</th>\n",
              "      <td>2458</td>\n",
              "      <td>Benjamin Grimm (Earth-616)</td>\n",
              "      <td>\\/Benjamin_Grimm_(Earth-616)</td>\n",
              "      <td>Public Identity</td>\n",
              "      <td>Good Characters</td>\n",
              "      <td>Blue Eyes</td>\n",
              "      <td>No Hair</td>\n",
              "      <td>Male Characters</td>\n",
              "      <td>NaN</td>\n",
              "      <td>Living Characters</td>\n",
              "      <td>2255.0</td>\n",
              "      <td>Nov-61</td>\n",
              "      <td>1961.0</td>\n",
              "    </tr>\n",
              "    <tr>\n",
              "      <th>6</th>\n",
              "      <td>2166</td>\n",
              "      <td>Reed Richards (Earth-616)</td>\n",
              "      <td>\\/Reed_Richards_(Earth-616)</td>\n",
              "      <td>Public Identity</td>\n",
              "      <td>Good Characters</td>\n",
              "      <td>Brown Eyes</td>\n",
              "      <td>Brown Hair</td>\n",
              "      <td>Male Characters</td>\n",
              "      <td>NaN</td>\n",
              "      <td>Living Characters</td>\n",
              "      <td>2072.0</td>\n",
              "      <td>Nov-61</td>\n",
              "      <td>1961.0</td>\n",
              "    </tr>\n",
              "    <tr>\n",
              "      <th>7</th>\n",
              "      <td>1833</td>\n",
              "      <td>Hulk (Robert Bruce Banner)</td>\n",
              "      <td>\\/Hulk_(Robert_Bruce_Banner)</td>\n",
              "      <td>Public Identity</td>\n",
              "      <td>Good Characters</td>\n",
              "      <td>Brown Eyes</td>\n",
              "      <td>Brown Hair</td>\n",
              "      <td>Male Characters</td>\n",
              "      <td>NaN</td>\n",
              "      <td>Living Characters</td>\n",
              "      <td>2017.0</td>\n",
              "      <td>May-62</td>\n",
              "      <td>1962.0</td>\n",
              "    </tr>\n",
              "    <tr>\n",
              "      <th>8</th>\n",
              "      <td>29481</td>\n",
              "      <td>Scott Summers (Earth-616)</td>\n",
              "      <td>\\/Scott_Summers_(Earth-616)</td>\n",
              "      <td>Public Identity</td>\n",
              "      <td>Neutral Characters</td>\n",
              "      <td>Brown Eyes</td>\n",
              "      <td>Brown Hair</td>\n",
              "      <td>Male Characters</td>\n",
              "      <td>NaN</td>\n",
              "      <td>Living Characters</td>\n",
              "      <td>1955.0</td>\n",
              "      <td>Sep-63</td>\n",
              "      <td>1963.0</td>\n",
              "    </tr>\n",
              "    <tr>\n",
              "      <th>9</th>\n",
              "      <td>1837</td>\n",
              "      <td>Jonathan Storm (Earth-616)</td>\n",
              "      <td>\\/Jonathan_Storm_(Earth-616)</td>\n",
              "      <td>Public Identity</td>\n",
              "      <td>Good Characters</td>\n",
              "      <td>Blue Eyes</td>\n",
              "      <td>Blond Hair</td>\n",
              "      <td>Male Characters</td>\n",
              "      <td>NaN</td>\n",
              "      <td>Living Characters</td>\n",
              "      <td>1934.0</td>\n",
              "      <td>Nov-61</td>\n",
              "      <td>1961.0</td>\n",
              "    </tr>\n",
              "  </tbody>\n",
              "</table>\n",
              "</div>"
            ],
            "text/plain": [
              "   page_id                                 name  \\\n",
              "0     1678            Spider-Man (Peter Parker)   \n",
              "1     7139      Captain America (Steven Rogers)   \n",
              "2    64786  Wolverine (James \\\"Logan\\\" Howlett)   \n",
              "3     1868    Iron Man (Anthony \\\"Tony\\\" Stark)   \n",
              "4     2460                  Thor (Thor Odinson)   \n",
              "5     2458           Benjamin Grimm (Earth-616)   \n",
              "6     2166            Reed Richards (Earth-616)   \n",
              "7     1833           Hulk (Robert Bruce Banner)   \n",
              "8    29481            Scott Summers (Earth-616)   \n",
              "9     1837           Jonathan Storm (Earth-616)   \n",
              "\n",
              "                                   urlslug                ID  \\\n",
              "0              \\/Spider-Man_(Peter_Parker)   Secret Identity   \n",
              "1        \\/Captain_America_(Steven_Rogers)   Public Identity   \n",
              "2  \\/Wolverine_(James_%22Logan%22_Howlett)   Public Identity   \n",
              "3    \\/Iron_Man_(Anthony_%22Tony%22_Stark)   Public Identity   \n",
              "4                    \\/Thor_(Thor_Odinson)  No Dual Identity   \n",
              "5             \\/Benjamin_Grimm_(Earth-616)   Public Identity   \n",
              "6              \\/Reed_Richards_(Earth-616)   Public Identity   \n",
              "7             \\/Hulk_(Robert_Bruce_Banner)   Public Identity   \n",
              "8              \\/Scott_Summers_(Earth-616)   Public Identity   \n",
              "9             \\/Jonathan_Storm_(Earth-616)   Public Identity   \n",
              "\n",
              "                ALIGN         EYE        HAIR              SEX  GSM  \\\n",
              "0     Good Characters  Hazel Eyes  Brown Hair  Male Characters  NaN   \n",
              "1     Good Characters   Blue Eyes  White Hair  Male Characters  NaN   \n",
              "2  Neutral Characters   Blue Eyes  Black Hair  Male Characters  NaN   \n",
              "3     Good Characters   Blue Eyes  Black Hair  Male Characters  NaN   \n",
              "4     Good Characters   Blue Eyes  Blond Hair  Male Characters  NaN   \n",
              "5     Good Characters   Blue Eyes     No Hair  Male Characters  NaN   \n",
              "6     Good Characters  Brown Eyes  Brown Hair  Male Characters  NaN   \n",
              "7     Good Characters  Brown Eyes  Brown Hair  Male Characters  NaN   \n",
              "8  Neutral Characters  Brown Eyes  Brown Hair  Male Characters  NaN   \n",
              "9     Good Characters   Blue Eyes  Blond Hair  Male Characters  NaN   \n",
              "\n",
              "               ALIVE  APPEARANCES FIRST APPEARANCE    Year  \n",
              "0  Living Characters       4043.0           Aug-62  1962.0  \n",
              "1  Living Characters       3360.0           Mar-41  1941.0  \n",
              "2  Living Characters       3061.0           Oct-74  1974.0  \n",
              "3  Living Characters       2961.0           Mar-63  1963.0  \n",
              "4  Living Characters       2258.0           Nov-50  1950.0  \n",
              "5  Living Characters       2255.0           Nov-61  1961.0  \n",
              "6  Living Characters       2072.0           Nov-61  1961.0  \n",
              "7  Living Characters       2017.0           May-62  1962.0  \n",
              "8  Living Characters       1955.0           Sep-63  1963.0  \n",
              "9  Living Characters       1934.0           Nov-61  1961.0  "
            ]
          },
          "metadata": {
            "tags": []
          },
          "execution_count": 50
        }
      ]
    },
    {
      "cell_type": "code",
      "metadata": {
        "id": "V8E-JnCS14XN",
        "colab_type": "code",
        "outputId": "c2a976a5-2074-4ddc-8a6d-144d3fdddd8a",
        "colab": {
          "base_uri": "https://localhost:8080/",
          "height": 34
        }
      },
      "source": [
        "data.shape"
      ],
      "execution_count": 0,
      "outputs": [
        {
          "output_type": "execute_result",
          "data": {
            "text/plain": [
              "(16376, 13)"
            ]
          },
          "metadata": {
            "tags": []
          },
          "execution_count": 51
        }
      ]
    },
    {
      "cell_type": "code",
      "metadata": {
        "id": "nWV4EjnD18fr",
        "colab_type": "code",
        "outputId": "81c52bf0-c5b0-4e37-b55f-d32be17bb516",
        "colab": {
          "base_uri": "https://localhost:8080/",
          "height": 255
        }
      },
      "source": [
        "data.dtypes"
      ],
      "execution_count": 0,
      "outputs": [
        {
          "output_type": "execute_result",
          "data": {
            "text/plain": [
              "page_id               int64\n",
              "name                 object\n",
              "urlslug              object\n",
              "ID                   object\n",
              "ALIGN                object\n",
              "EYE                  object\n",
              "HAIR                 object\n",
              "SEX                  object\n",
              "GSM                  object\n",
              "ALIVE                object\n",
              "APPEARANCES         float64\n",
              "FIRST APPEARANCE     object\n",
              "Year                float64\n",
              "dtype: object"
            ]
          },
          "metadata": {
            "tags": []
          },
          "execution_count": 52
        }
      ]
    },
    {
      "cell_type": "code",
      "metadata": {
        "id": "pdZ3dBQt1-8A",
        "colab_type": "code",
        "outputId": "ad2ea941-32e0-41bd-e2a4-4dceb649faf6",
        "colab": {
          "base_uri": "https://localhost:8080/",
          "height": 255
        }
      },
      "source": [
        "data.isnull().sum()"
      ],
      "execution_count": 0,
      "outputs": [
        {
          "output_type": "execute_result",
          "data": {
            "text/plain": [
              "page_id                 0\n",
              "name                    0\n",
              "urlslug                 0\n",
              "ID                   3770\n",
              "ALIGN                2812\n",
              "EYE                  9767\n",
              "HAIR                 4264\n",
              "SEX                   854\n",
              "GSM                 16286\n",
              "ALIVE                   3\n",
              "APPEARANCES          1096\n",
              "FIRST APPEARANCE      815\n",
              "Year                  815\n",
              "dtype: int64"
            ]
          },
          "metadata": {
            "tags": []
          },
          "execution_count": 53
        }
      ]
    },
    {
      "cell_type": "code",
      "metadata": {
        "id": "44rCU58h2gM-",
        "colab_type": "code",
        "colab": {}
      },
      "source": [
        "from sklearn.preprocessing import StandardScaler"
      ],
      "execution_count": 0,
      "outputs": []
    },
    {
      "cell_type": "code",
      "metadata": {
        "id": "Rub-LsMr4r5H",
        "colab_type": "code",
        "outputId": "89be0151-5b7c-4329-f249-7104794e381f",
        "colab": {
          "base_uri": "https://localhost:8080/",
          "height": 427
        }
      },
      "source": [
        "plt.hist(data['APPEARANCES'], 200)\n",
        "plt.show()"
      ],
      "execution_count": 0,
      "outputs": [
        {
          "output_type": "stream",
          "text": [
            "/usr/local/lib/python3.6/dist-packages/numpy/lib/function_base.py:780: RuntimeWarning: invalid value encountered in greater_equal\n",
            "  keep = (tmp_a >= first_edge)\n",
            "/usr/local/lib/python3.6/dist-packages/numpy/lib/function_base.py:781: RuntimeWarning: invalid value encountered in less_equal\n",
            "  keep &= (tmp_a <= last_edge)\n"
          ],
          "name": "stderr"
        },
        {
          "output_type": "display_data",
          "data": {
            "image/png": "[encoded data removed]",
            "text/plain": [
              "<Figure size 576x396 with 1 Axes>"
            ]
          },
          "metadata": {
            "tags": []
          }
        }
      ]
    },
    {
      "cell_type": "code",
      "metadata": {
        "id": "0CYJJW4F2Brh",
        "colab_type": "code",
        "colab": {}
      },
      "source": [
        "z = StandardScaler()\n",
        "z_data = z.fit_transform(data[['APPEARANCES']])"
      ],
      "execution_count": 0,
      "outputs": []
    },
    {
      "cell_type": "code",
      "metadata": {
        "id": "BJ6WfDOS2exC",
        "colab_type": "code",
        "outputId": "05931a5f-f6dd-4dd6-edf8-2754a95ddf8a",
        "colab": {
          "base_uri": "https://localhost:8080/",
          "height": 427
        }
      },
      "source": [
        "plt.hist(z_data, 200)\n",
        "plt.show()"
      ],
      "execution_count": 0,
      "outputs": [
        {
          "output_type": "stream",
          "text": [
            "/usr/local/lib/python3.6/dist-packages/numpy/lib/function_base.py:780: RuntimeWarning: invalid value encountered in greater_equal\n",
            "  keep = (tmp_a >= first_edge)\n",
            "/usr/local/lib/python3.6/dist-packages/numpy/lib/function_base.py:781: RuntimeWarning: invalid value encountered in less_equal\n",
            "  keep &= (tmp_a <= last_edge)\n"
          ],
          "name": "stderr"
        },
        {
          "output_type": "display_data",
          "data": {
            "image/png": "[encoded data removed]",
            "text/plain": [
              "<Figure size 576x396 with 1 Axes>"
            ]
          },
          "metadata": {
            "tags": []
          }
        }
      ]
    },
    {
      "cell_type": "code",
      "metadata": {
        "id": "vwvJw1ot2naJ",
        "colab_type": "code",
        "colab": {}
      },
      "source": [
        "from sklearn.preprocessing import OneHotEncoder\n",
        "ohe = OneHotEncoder()\n",
        "cat_temp_data = data[['ALIVE']]"
      ],
      "execution_count": 0,
      "outputs": []
    },
    {
      "cell_type": "code",
      "metadata": {
        "id": "rbOKMQAN539G",
        "colab_type": "code",
        "outputId": "c4216899-a092-4e3e-9c58-c8b2d13910bd",
        "colab": {
          "base_uri": "https://localhost:8080/",
          "height": 34
        }
      },
      "source": [
        "cat_temp_data['ALIVE'].unique()"
      ],
      "execution_count": 0,
      "outputs": [
        {
          "output_type": "execute_result",
          "data": {
            "text/plain": [
              "array(['Living Characters', 'Deceased Characters', nan], dtype=object)"
            ]
          },
          "metadata": {
            "tags": []
          },
          "execution_count": 74
        }
      ]
    },
    {
      "cell_type": "code",
      "metadata": {
        "id": "EWgIcMyX9GFs",
        "colab_type": "code",
        "colab": {}
      },
      "source": [
        "from sklearn.impute import SimpleImputer"
      ],
      "execution_count": 0,
      "outputs": []
    },
    {
      "cell_type": "code",
      "metadata": {
        "id": "7Ep1Rimi8tob",
        "colab_type": "code",
        "colab": {}
      },
      "source": [
        "# Импьютация наиболее частыми значениями\n",
        "imp = SimpleImputer(missing_values=np.nan, strategy='most_frequent')\n",
        "data_imp = imp.fit_transform(cat_temp_data)"
      ],
      "execution_count": 0,
      "outputs": []
    },
    {
      "cell_type": "code",
      "metadata": {
        "id": "qZMFHI0G9Nm_",
        "colab_type": "code",
        "outputId": "7d664775-e79d-488b-f4fe-06a141bf1156",
        "colab": {
          "base_uri": "https://localhost:8080/",
          "height": 34
        }
      },
      "source": [
        "np.unique(data_imp)"
      ],
      "execution_count": 0,
      "outputs": [
        {
          "output_type": "execute_result",
          "data": {
            "text/plain": [
              "array(['Deceased Characters', 'Living Characters'], dtype=object)"
            ]
          },
          "metadata": {
            "tags": []
          },
          "execution_count": 80
        }
      ]
    },
    {
      "cell_type": "code",
      "metadata": {
        "id": "dKrHcUwd93k-",
        "colab_type": "code",
        "outputId": "9de3891f-41a2-4e21-95d7-ea48d8ae1ea3",
        "colab": {
          "base_uri": "https://localhost:8080/",
          "height": 669
        }
      },
      "source": [
        "cat_enc = pd.DataFrame({'c1':data_imp2.T[0]})\n",
        "cat_enc.tail(20)"
      ],
      "execution_count": 0,
      "outputs": [
        {
          "output_type": "execute_result",
          "data": {
            "text/html": [
              "<div>\n",
              "<style scoped>\n",
              "    .dataframe tbody tr th:only-of-type {\n",
              "        vertical-align: middle;\n",
              "    }\n",
              "\n",
              "    .dataframe tbody tr th {\n",
              "        vertical-align: top;\n",
              "    }\n",
              "\n",
              "    .dataframe thead th {\n",
              "        text-align: right;\n",
              "    }\n",
              "</style>\n",
              "<table border=\"1\" class=\"dataframe\">\n",
              "  <thead>\n",
              "    <tr style=\"text-align: right;\">\n",
              "      <th></th>\n",
              "      <th>c1</th>\n",
              "    </tr>\n",
              "  </thead>\n",
              "  <tbody>\n",
              "    <tr>\n",
              "      <th>16356</th>\n",
              "      <td>Living Characters</td>\n",
              "    </tr>\n",
              "    <tr>\n",
              "      <th>16357</th>\n",
              "      <td>Living Characters</td>\n",
              "    </tr>\n",
              "    <tr>\n",
              "      <th>16358</th>\n",
              "      <td>Living Characters</td>\n",
              "    </tr>\n",
              "    <tr>\n",
              "      <th>16359</th>\n",
              "      <td>Living Characters</td>\n",
              "    </tr>\n",
              "    <tr>\n",
              "      <th>16360</th>\n",
              "      <td>Living Characters</td>\n",
              "    </tr>\n",
              "    <tr>\n",
              "      <th>16361</th>\n",
              "      <td>Deceased Characters</td>\n",
              "    </tr>\n",
              "    <tr>\n",
              "      <th>16362</th>\n",
              "      <td>Living Characters</td>\n",
              "    </tr>\n",
              "    <tr>\n",
              "      <th>16363</th>\n",
              "      <td>Living Characters</td>\n",
              "    </tr>\n",
              "    <tr>\n",
              "      <th>16364</th>\n",
              "      <td>Living Characters</td>\n",
              "    </tr>\n",
              "    <tr>\n",
              "      <th>16365</th>\n",
              "      <td>Deceased Characters</td>\n",
              "    </tr>\n",
              "    <tr>\n",
              "      <th>16366</th>\n",
              "      <td>Living Characters</td>\n",
              "    </tr>\n",
              "    <tr>\n",
              "      <th>16367</th>\n",
              "      <td>Living Characters</td>\n",
              "    </tr>\n",
              "    <tr>\n",
              "      <th>16368</th>\n",
              "      <td>Living Characters</td>\n",
              "    </tr>\n",
              "    <tr>\n",
              "      <th>16369</th>\n",
              "      <td>Living Characters</td>\n",
              "    </tr>\n",
              "    <tr>\n",
              "      <th>16370</th>\n",
              "      <td>Living Characters</td>\n",
              "    </tr>\n",
              "    <tr>\n",
              "      <th>16371</th>\n",
              "      <td>Living Characters</td>\n",
              "    </tr>\n",
              "    <tr>\n",
              "      <th>16372</th>\n",
              "      <td>Living Characters</td>\n",
              "    </tr>\n",
              "    <tr>\n",
              "      <th>16373</th>\n",
              "      <td>Living Characters</td>\n",
              "    </tr>\n",
              "    <tr>\n",
              "      <th>16374</th>\n",
              "      <td>Living Characters</td>\n",
              "    </tr>\n",
              "    <tr>\n",
              "      <th>16375</th>\n",
              "      <td>Living Characters</td>\n",
              "    </tr>\n",
              "  </tbody>\n",
              "</table>\n",
              "</div>"
            ],
            "text/plain": [
              "                        c1\n",
              "16356    Living Characters\n",
              "16357    Living Characters\n",
              "16358    Living Characters\n",
              "16359    Living Characters\n",
              "16360    Living Characters\n",
              "16361  Deceased Characters\n",
              "16362    Living Characters\n",
              "16363    Living Characters\n",
              "16364    Living Characters\n",
              "16365  Deceased Characters\n",
              "16366    Living Characters\n",
              "16367    Living Characters\n",
              "16368    Living Characters\n",
              "16369    Living Characters\n",
              "16370    Living Characters\n",
              "16371    Living Characters\n",
              "16372    Living Characters\n",
              "16373    Living Characters\n",
              "16374    Living Characters\n",
              "16375    Living Characters"
            ]
          },
          "metadata": {
            "tags": []
          },
          "execution_count": 87
        }
      ]
    },
    {
      "cell_type": "code",
      "metadata": {
        "id": "ojqNijy_9YRe",
        "colab_type": "code",
        "outputId": "3bf5a42a-806c-4922-bf5a-4a4c9da2a8fe",
        "colab": {
          "base_uri": "https://localhost:8080/",
          "height": 669
        }
      },
      "source": [
        "data2 = pd.get_dummies(cat_enc['c1'])\n",
        "data2.tail(20)"
      ],
      "execution_count": 0,
      "outputs": [
        {
          "output_type": "execute_result",
          "data": {
            "text/html": [
              "<div>\n",
              "<style scoped>\n",
              "    .dataframe tbody tr th:only-of-type {\n",
              "        vertical-align: middle;\n",
              "    }\n",
              "\n",
              "    .dataframe tbody tr th {\n",
              "        vertical-align: top;\n",
              "    }\n",
              "\n",
              "    .dataframe thead th {\n",
              "        text-align: right;\n",
              "    }\n",
              "</style>\n",
              "<table border=\"1\" class=\"dataframe\">\n",
              "  <thead>\n",
              "    <tr style=\"text-align: right;\">\n",
              "      <th></th>\n",
              "      <th>Deceased Characters</th>\n",
              "      <th>Living Characters</th>\n",
              "    </tr>\n",
              "  </thead>\n",
              "  <tbody>\n",
              "    <tr>\n",
              "      <th>16356</th>\n",
              "      <td>0</td>\n",
              "      <td>1</td>\n",
              "    </tr>\n",
              "    <tr>\n",
              "      <th>16357</th>\n",
              "      <td>0</td>\n",
              "      <td>1</td>\n",
              "    </tr>\n",
              "    <tr>\n",
              "      <th>16358</th>\n",
              "      <td>0</td>\n",
              "      <td>1</td>\n",
              "    </tr>\n",
              "    <tr>\n",
              "      <th>16359</th>\n",
              "      <td>0</td>\n",
              "      <td>1</td>\n",
              "    </tr>\n",
              "    <tr>\n",
              "      <th>16360</th>\n",
              "      <td>0</td>\n",
              "      <td>1</td>\n",
              "    </tr>\n",
              "    <tr>\n",
              "      <th>16361</th>\n",
              "      <td>1</td>\n",
              "      <td>0</td>\n",
              "    </tr>\n",
              "    <tr>\n",
              "      <th>16362</th>\n",
              "      <td>0</td>\n",
              "      <td>1</td>\n",
              "    </tr>\n",
              "    <tr>\n",
              "      <th>16363</th>\n",
              "      <td>0</td>\n",
              "      <td>1</td>\n",
              "    </tr>\n",
              "    <tr>\n",
              "      <th>16364</th>\n",
              "      <td>0</td>\n",
              "      <td>1</td>\n",
              "    </tr>\n",
              "    <tr>\n",
              "      <th>16365</th>\n",
              "      <td>1</td>\n",
              "      <td>0</td>\n",
              "    </tr>\n",
              "    <tr>\n",
              "      <th>16366</th>\n",
              "      <td>0</td>\n",
              "      <td>1</td>\n",
              "    </tr>\n",
              "    <tr>\n",
              "      <th>16367</th>\n",
              "      <td>0</td>\n",
              "      <td>1</td>\n",
              "    </tr>\n",
              "    <tr>\n",
              "      <th>16368</th>\n",
              "      <td>0</td>\n",
              "      <td>1</td>\n",
              "    </tr>\n",
              "    <tr>\n",
              "      <th>16369</th>\n",
              "      <td>0</td>\n",
              "      <td>1</td>\n",
              "    </tr>\n",
              "    <tr>\n",
              "      <th>16370</th>\n",
              "      <td>0</td>\n",
              "      <td>1</td>\n",
              "    </tr>\n",
              "    <tr>\n",
              "      <th>16371</th>\n",
              "      <td>0</td>\n",
              "      <td>1</td>\n",
              "    </tr>\n",
              "    <tr>\n",
              "      <th>16372</th>\n",
              "      <td>0</td>\n",
              "      <td>1</td>\n",
              "    </tr>\n",
              "    <tr>\n",
              "      <th>16373</th>\n",
              "      <td>0</td>\n",
              "      <td>1</td>\n",
              "    </tr>\n",
              "    <tr>\n",
              "      <th>16374</th>\n",
              "      <td>0</td>\n",
              "      <td>1</td>\n",
              "    </tr>\n",
              "    <tr>\n",
              "      <th>16375</th>\n",
              "      <td>0</td>\n",
              "      <td>1</td>\n",
              "    </tr>\n",
              "  </tbody>\n",
              "</table>\n",
              "</div>"
            ],
            "text/plain": [
              "       Deceased Characters  Living Characters\n",
              "16356                    0                  1\n",
              "16357                    0                  1\n",
              "16358                    0                  1\n",
              "16359                    0                  1\n",
              "16360                    0                  1\n",
              "16361                    1                  0\n",
              "16362                    0                  1\n",
              "16363                    0                  1\n",
              "16364                    0                  1\n",
              "16365                    1                  0\n",
              "16366                    0                  1\n",
              "16367                    0                  1\n",
              "16368                    0                  1\n",
              "16369                    0                  1\n",
              "16370                    0                  1\n",
              "16371                    0                  1\n",
              "16372                    0                  1\n",
              "16373                    0                  1\n",
              "16374                    0                  1\n",
              "16375                    0                  1"
            ]
          },
          "metadata": {
            "tags": []
          },
          "execution_count": 90
        }
      ]
    },
    {
      "cell_type": "code",
      "metadata": {
        "id": "tOhronuX9lq_",
        "colab_type": "code",
        "colab": {}
      },
      "source": [
        "data3 = data.join(data2)"
      ],
      "execution_count": 0,
      "outputs": []
    },
    {
      "cell_type": "code",
      "metadata": {
        "id": "_7wyOk-zBFzP",
        "colab_type": "code",
        "colab": {}
      },
      "source": [
        "from sklearn.preprocessing import LabelEncoder"
      ],
      "execution_count": 0,
      "outputs": []
    },
    {
      "cell_type": "code",
      "metadata": {
        "id": "0Z84yi0LDcdo",
        "colab_type": "code",
        "colab": {}
      },
      "source": [
        "le = LabelEncoder()\n",
        "cat_enc_le = le.fit_transform(cat_enc['c1'])"
      ],
      "execution_count": 0,
      "outputs": []
    },
    {
      "cell_type": "code",
      "metadata": {
        "id": "NCm9ai66Dfqc",
        "colab_type": "code",
        "outputId": "b217d8c3-3df6-4ccb-cdba-f8b11e18717a",
        "colab": {
          "base_uri": "https://localhost:8080/",
          "height": 34
        }
      },
      "source": [
        "cat_enc['c1'].unique()"
      ],
      "execution_count": 0,
      "outputs": [
        {
          "output_type": "execute_result",
          "data": {
            "text/plain": [
              "array(['Living Characters', 'Deceased Characters'], dtype=object)"
            ]
          },
          "metadata": {
            "tags": []
          },
          "execution_count": 95
        }
      ]
    },
    {
      "cell_type": "code",
      "metadata": {
        "id": "fRxeacF6DhV3",
        "colab_type": "code",
        "outputId": "2579f996-22b9-4ee7-c606-f9e358a5ea03",
        "colab": {
          "base_uri": "https://localhost:8080/",
          "height": 34
        }
      },
      "source": [
        "np.unique(cat_enc_le)"
      ],
      "execution_count": 0,
      "outputs": [
        {
          "output_type": "execute_result",
          "data": {
            "text/plain": [
              "array([0, 1])"
            ]
          },
          "metadata": {
            "tags": []
          },
          "execution_count": 96
        }
      ]
    },
    {
      "cell_type": "code",
      "metadata": {
        "id": "tBuB7ERUDjt6",
        "colab_type": "code",
        "outputId": "05614e39-ae74-45ba-9723-fbc053b496ea",
        "colab": {
          "base_uri": "https://localhost:8080/",
          "height": 34
        }
      },
      "source": [
        "le.inverse_transform([x for x in range(2)])"
      ],
      "execution_count": 0,
      "outputs": [
        {
          "output_type": "execute_result",
          "data": {
            "text/plain": [
              "array(['Deceased Characters', 'Living Characters'], dtype=object)"
            ]
          },
          "metadata": {
            "tags": []
          },
          "execution_count": 97
        }
      ]
    },
    {
      "cell_type": "code",
      "metadata": {
        "id": "5j5eo48kDlwl",
        "colab_type": "code",
        "outputId": "7d397a48-5ccb-40ff-f39b-a1b875949cc3",
        "colab": {
          "base_uri": "https://localhost:8080/",
          "height": 34
        }
      },
      "source": [
        "cat_enc_le"
      ],
      "execution_count": 0,
      "outputs": [
        {
          "output_type": "execute_result",
          "data": {
            "text/plain": [
              "array([1, 1, 1, ..., 1, 1, 1])"
            ]
          },
          "metadata": {
            "tags": []
          },
          "execution_count": 98
        }
      ]
    },
    {
      "cell_type": "code",
      "metadata": {
        "id": "hLHrSJfbDoUZ",
        "colab_type": "code",
        "outputId": "8aa890c5-4fe1-4ba3-ff9b-d426bb5fad80",
        "colab": {
          "base_uri": "https://localhost:8080/",
          "height": 1505
        }
      },
      "source": [
        "data3['ALIVE'] = cat_enc_le\n",
        "data3.tail(20)"
      ],
      "execution_count": 0,
      "outputs": [
        {
          "output_type": "execute_result",
          "data": {
            "text/html": [
              "<div>\n",
              "<style scoped>\n",
              "    .dataframe tbody tr th:only-of-type {\n",
              "        vertical-align: middle;\n",
              "    }\n",
              "\n",
              "    .dataframe tbody tr th {\n",
              "        vertical-align: top;\n",
              "    }\n",
              "\n",
              "    .dataframe thead th {\n",
              "        text-align: right;\n",
              "    }\n",
              "</style>\n",
              "<table border=\"1\" class=\"dataframe\">\n",
              "  <thead>\n",
              "    <tr style=\"text-align: right;\">\n",
              "      <th></th>\n",
              "      <th>page_id</th>\n",
              "      <th>name</th>\n",
              "      <th>urlslug</th>\n",
              "      <th>ID</th>\n",
              "      <th>ALIGN</th>\n",
              "      <th>EYE</th>\n",
              "      <th>HAIR</th>\n",
              "      <th>SEX</th>\n",
              "      <th>GSM</th>\n",
              "      <th>ALIVE</th>\n",
              "      <th>APPEARANCES</th>\n",
              "      <th>FIRST APPEARANCE</th>\n",
              "      <th>Year</th>\n",
              "      <th>Deceased Characters</th>\n",
              "      <th>Living Characters</th>\n",
              "    </tr>\n",
              "  </thead>\n",
              "  <tbody>\n",
              "    <tr>\n",
              "      <th>16356</th>\n",
              "      <td>473710</td>\n",
              "      <td>Yamata no Orichi (Earth-616)</td>\n",
              "      <td>\\/Yamata_no_Orichi_(Earth-616)</td>\n",
              "      <td>Public Identity</td>\n",
              "      <td>Bad Characters</td>\n",
              "      <td>NaN</td>\n",
              "      <td>No Hair</td>\n",
              "      <td>Male Characters</td>\n",
              "      <td>NaN</td>\n",
              "      <td>1</td>\n",
              "      <td>NaN</td>\n",
              "      <td>NaN</td>\n",
              "      <td>NaN</td>\n",
              "      <td>0</td>\n",
              "      <td>1</td>\n",
              "    </tr>\n",
              "    <tr>\n",
              "      <th>16357</th>\n",
              "      <td>670512</td>\n",
              "      <td>Zero G. Priestly (Legion Personality) (Earth-616)</td>\n",
              "      <td>\\/Zero_G._Priestly_(Legion_Personality)_(Earth...</td>\n",
              "      <td>Secret Identity</td>\n",
              "      <td>Neutral Characters</td>\n",
              "      <td>NaN</td>\n",
              "      <td>NaN</td>\n",
              "      <td>Male Characters</td>\n",
              "      <td>NaN</td>\n",
              "      <td>1</td>\n",
              "      <td>NaN</td>\n",
              "      <td>NaN</td>\n",
              "      <td>NaN</td>\n",
              "      <td>0</td>\n",
              "      <td>1</td>\n",
              "    </tr>\n",
              "    <tr>\n",
              "      <th>16358</th>\n",
              "      <td>12132</td>\n",
              "      <td>Zora Loftus (Earth-616)</td>\n",
              "      <td>\\/Zora_Loftus_(Earth-616)</td>\n",
              "      <td>Secret Identity</td>\n",
              "      <td>Bad Characters</td>\n",
              "      <td>NaN</td>\n",
              "      <td>Blond Hair</td>\n",
              "      <td>Female Characters</td>\n",
              "      <td>NaN</td>\n",
              "      <td>1</td>\n",
              "      <td>NaN</td>\n",
              "      <td>NaN</td>\n",
              "      <td>NaN</td>\n",
              "      <td>0</td>\n",
              "      <td>1</td>\n",
              "    </tr>\n",
              "    <tr>\n",
              "      <th>16359</th>\n",
              "      <td>727035</td>\n",
              "      <td>Agar (Earth-616)</td>\n",
              "      <td>\\/Agar_(Earth-616)</td>\n",
              "      <td>No Dual Identity</td>\n",
              "      <td>Bad Characters</td>\n",
              "      <td>Black Eyes</td>\n",
              "      <td>No Hair</td>\n",
              "      <td>Male Characters</td>\n",
              "      <td>NaN</td>\n",
              "      <td>1</td>\n",
              "      <td>NaN</td>\n",
              "      <td>NaN</td>\n",
              "      <td>NaN</td>\n",
              "      <td>0</td>\n",
              "      <td>1</td>\n",
              "    </tr>\n",
              "    <tr>\n",
              "      <th>16360</th>\n",
              "      <td>703546</td>\n",
              "      <td>Ana (Natasha Romanoff's neighbor) (Earth-616)</td>\n",
              "      <td>\\/Ana_(Natasha_Romanoff%27s_neighbor)_(Earth-616)</td>\n",
              "      <td>No Dual Identity</td>\n",
              "      <td>Good Characters</td>\n",
              "      <td>Black Eyes</td>\n",
              "      <td>Grey Hair</td>\n",
              "      <td>Female Characters</td>\n",
              "      <td>NaN</td>\n",
              "      <td>1</td>\n",
              "      <td>NaN</td>\n",
              "      <td>NaN</td>\n",
              "      <td>NaN</td>\n",
              "      <td>0</td>\n",
              "      <td>1</td>\n",
              "    </tr>\n",
              "    <tr>\n",
              "      <th>16361</th>\n",
              "      <td>713903</td>\n",
              "      <td>Dante's mother (Earth-616)</td>\n",
              "      <td>\\/Dante%27s_mother_(Earth-616)</td>\n",
              "      <td>No Dual Identity</td>\n",
              "      <td>Neutral Characters</td>\n",
              "      <td>NaN</td>\n",
              "      <td>NaN</td>\n",
              "      <td>Female Characters</td>\n",
              "      <td>NaN</td>\n",
              "      <td>0</td>\n",
              "      <td>NaN</td>\n",
              "      <td>NaN</td>\n",
              "      <td>NaN</td>\n",
              "      <td>1</td>\n",
              "      <td>0</td>\n",
              "    </tr>\n",
              "    <tr>\n",
              "      <th>16362</th>\n",
              "      <td>508693</td>\n",
              "      <td>Farbauti (Earth-616)</td>\n",
              "      <td>\\/Farbauti_(Earth-616)</td>\n",
              "      <td>Public Identity</td>\n",
              "      <td>Bad Characters</td>\n",
              "      <td>Red Eyes</td>\n",
              "      <td>NaN</td>\n",
              "      <td>Female Characters</td>\n",
              "      <td>NaN</td>\n",
              "      <td>1</td>\n",
              "      <td>NaN</td>\n",
              "      <td>NaN</td>\n",
              "      <td>NaN</td>\n",
              "      <td>0</td>\n",
              "      <td>1</td>\n",
              "    </tr>\n",
              "    <tr>\n",
              "      <th>16363</th>\n",
              "      <td>694577</td>\n",
              "      <td>Finch (Kate Bishop's neighbor) (Earth-616)</td>\n",
              "      <td>\\/Finch_(Kate_Bishop%27s_neighbor)_(Earth-616)</td>\n",
              "      <td>Public Identity</td>\n",
              "      <td>Good Characters</td>\n",
              "      <td>Black Eyes</td>\n",
              "      <td>Bald</td>\n",
              "      <td>Male Characters</td>\n",
              "      <td>Homosexual Characters</td>\n",
              "      <td>1</td>\n",
              "      <td>NaN</td>\n",
              "      <td>NaN</td>\n",
              "      <td>NaN</td>\n",
              "      <td>0</td>\n",
              "      <td>1</td>\n",
              "    </tr>\n",
              "    <tr>\n",
              "      <th>16364</th>\n",
              "      <td>655292</td>\n",
              "      <td>Jack O'Lantern (Impostor) (Earth-616)</td>\n",
              "      <td>\\/Jack_O%27Lantern_(Impostor)_(Earth-616)</td>\n",
              "      <td>Secret Identity</td>\n",
              "      <td>Bad Characters</td>\n",
              "      <td>Hazel Eyes</td>\n",
              "      <td>Bald</td>\n",
              "      <td>Male Characters</td>\n",
              "      <td>NaN</td>\n",
              "      <td>1</td>\n",
              "      <td>NaN</td>\n",
              "      <td>NaN</td>\n",
              "      <td>NaN</td>\n",
              "      <td>0</td>\n",
              "      <td>1</td>\n",
              "    </tr>\n",
              "    <tr>\n",
              "      <th>16365</th>\n",
              "      <td>684262</td>\n",
              "      <td>K'thol (Earth-616)</td>\n",
              "      <td>\\/K%27thol_(Earth-616)</td>\n",
              "      <td>NaN</td>\n",
              "      <td>Good Characters</td>\n",
              "      <td>NaN</td>\n",
              "      <td>NaN</td>\n",
              "      <td>Male Characters</td>\n",
              "      <td>NaN</td>\n",
              "      <td>0</td>\n",
              "      <td>NaN</td>\n",
              "      <td>NaN</td>\n",
              "      <td>NaN</td>\n",
              "      <td>1</td>\n",
              "      <td>0</td>\n",
              "    </tr>\n",
              "    <tr>\n",
              "      <th>16366</th>\n",
              "      <td>643435</td>\n",
              "      <td>Karen (Hijack's girlfriend) (Earth-616)</td>\n",
              "      <td>\\/Karen_(Hijack%27s_girlfriend)_(Earth-616)</td>\n",
              "      <td>Public Identity</td>\n",
              "      <td>Neutral Characters</td>\n",
              "      <td>Brown Eyes</td>\n",
              "      <td>Black Hair</td>\n",
              "      <td>Female Characters</td>\n",
              "      <td>NaN</td>\n",
              "      <td>1</td>\n",
              "      <td>NaN</td>\n",
              "      <td>NaN</td>\n",
              "      <td>NaN</td>\n",
              "      <td>0</td>\n",
              "      <td>1</td>\n",
              "    </tr>\n",
              "    <tr>\n",
              "      <th>16367</th>\n",
              "      <td>694583</td>\n",
              "      <td>Marcus (Kate Bishop's neighbor) (Earth-616)</td>\n",
              "      <td>\\/Marcus_(Kate_Bishop%27s_neighbor)_(Earth-616)</td>\n",
              "      <td>Public Identity</td>\n",
              "      <td>Good Characters</td>\n",
              "      <td>Hazel Eyes</td>\n",
              "      <td>Bald</td>\n",
              "      <td>Male Characters</td>\n",
              "      <td>Homosexual Characters</td>\n",
              "      <td>1</td>\n",
              "      <td>NaN</td>\n",
              "      <td>NaN</td>\n",
              "      <td>NaN</td>\n",
              "      <td>0</td>\n",
              "      <td>1</td>\n",
              "    </tr>\n",
              "    <tr>\n",
              "      <th>16368</th>\n",
              "      <td>703892</td>\n",
              "      <td>Marcy (Offer's employee) (Earth-616)</td>\n",
              "      <td>\\/Marcy_(Offer%27s_employee)_(Earth-616)</td>\n",
              "      <td>Public Identity</td>\n",
              "      <td>Neutral Characters</td>\n",
              "      <td>NaN</td>\n",
              "      <td>Brown Hair</td>\n",
              "      <td>Female Characters</td>\n",
              "      <td>NaN</td>\n",
              "      <td>1</td>\n",
              "      <td>NaN</td>\n",
              "      <td>NaN</td>\n",
              "      <td>NaN</td>\n",
              "      <td>0</td>\n",
              "      <td>1</td>\n",
              "    </tr>\n",
              "    <tr>\n",
              "      <th>16369</th>\n",
              "      <td>660799</td>\n",
              "      <td>Melanie Kapoor (Earth-616)</td>\n",
              "      <td>\\/Melanie_Kapoor_(Earth-616)</td>\n",
              "      <td>Public Identity</td>\n",
              "      <td>Good Characters</td>\n",
              "      <td>Blue Eyes</td>\n",
              "      <td>Black Hair</td>\n",
              "      <td>Female Characters</td>\n",
              "      <td>NaN</td>\n",
              "      <td>1</td>\n",
              "      <td>NaN</td>\n",
              "      <td>NaN</td>\n",
              "      <td>NaN</td>\n",
              "      <td>0</td>\n",
              "      <td>1</td>\n",
              "    </tr>\n",
              "    <tr>\n",
              "      <th>16370</th>\n",
              "      <td>674414</td>\n",
              "      <td>Phoenix's Shadow (Earth-616)</td>\n",
              "      <td>\\/Phoenix%27s_Shadow_(Earth-616)</td>\n",
              "      <td>NaN</td>\n",
              "      <td>Neutral Characters</td>\n",
              "      <td>NaN</td>\n",
              "      <td>NaN</td>\n",
              "      <td>NaN</td>\n",
              "      <td>NaN</td>\n",
              "      <td>1</td>\n",
              "      <td>NaN</td>\n",
              "      <td>NaN</td>\n",
              "      <td>NaN</td>\n",
              "      <td>0</td>\n",
              "      <td>1</td>\n",
              "    </tr>\n",
              "    <tr>\n",
              "      <th>16371</th>\n",
              "      <td>657508</td>\n",
              "      <td>Ru'ach (Earth-616)</td>\n",
              "      <td>\\/Ru%27ach_(Earth-616)</td>\n",
              "      <td>No Dual Identity</td>\n",
              "      <td>Bad Characters</td>\n",
              "      <td>Green Eyes</td>\n",
              "      <td>No Hair</td>\n",
              "      <td>Male Characters</td>\n",
              "      <td>NaN</td>\n",
              "      <td>1</td>\n",
              "      <td>NaN</td>\n",
              "      <td>NaN</td>\n",
              "      <td>NaN</td>\n",
              "      <td>0</td>\n",
              "      <td>1</td>\n",
              "    </tr>\n",
              "    <tr>\n",
              "      <th>16372</th>\n",
              "      <td>665474</td>\n",
              "      <td>Thane (Thanos' son) (Earth-616)</td>\n",
              "      <td>\\/Thane_(Thanos%27_son)_(Earth-616)</td>\n",
              "      <td>No Dual Identity</td>\n",
              "      <td>Good Characters</td>\n",
              "      <td>Blue Eyes</td>\n",
              "      <td>Bald</td>\n",
              "      <td>Male Characters</td>\n",
              "      <td>NaN</td>\n",
              "      <td>1</td>\n",
              "      <td>NaN</td>\n",
              "      <td>NaN</td>\n",
              "      <td>NaN</td>\n",
              "      <td>0</td>\n",
              "      <td>1</td>\n",
              "    </tr>\n",
              "    <tr>\n",
              "      <th>16373</th>\n",
              "      <td>695217</td>\n",
              "      <td>Tinkerer (Skrull) (Earth-616)</td>\n",
              "      <td>\\/Tinkerer_(Skrull)_(Earth-616)</td>\n",
              "      <td>Secret Identity</td>\n",
              "      <td>Bad Characters</td>\n",
              "      <td>Black Eyes</td>\n",
              "      <td>Bald</td>\n",
              "      <td>Male Characters</td>\n",
              "      <td>NaN</td>\n",
              "      <td>1</td>\n",
              "      <td>NaN</td>\n",
              "      <td>NaN</td>\n",
              "      <td>NaN</td>\n",
              "      <td>0</td>\n",
              "      <td>1</td>\n",
              "    </tr>\n",
              "    <tr>\n",
              "      <th>16374</th>\n",
              "      <td>708811</td>\n",
              "      <td>TK421 (Spiderling) (Earth-616)</td>\n",
              "      <td>\\/TK421_(Spiderling)_(Earth-616)</td>\n",
              "      <td>Secret Identity</td>\n",
              "      <td>Neutral Characters</td>\n",
              "      <td>NaN</td>\n",
              "      <td>NaN</td>\n",
              "      <td>Male Characters</td>\n",
              "      <td>NaN</td>\n",
              "      <td>1</td>\n",
              "      <td>NaN</td>\n",
              "      <td>NaN</td>\n",
              "      <td>NaN</td>\n",
              "      <td>0</td>\n",
              "      <td>1</td>\n",
              "    </tr>\n",
              "    <tr>\n",
              "      <th>16375</th>\n",
              "      <td>673702</td>\n",
              "      <td>Yologarch (Earth-616)</td>\n",
              "      <td>\\/Yologarch_(Earth-616)</td>\n",
              "      <td>NaN</td>\n",
              "      <td>Bad Characters</td>\n",
              "      <td>NaN</td>\n",
              "      <td>NaN</td>\n",
              "      <td>NaN</td>\n",
              "      <td>NaN</td>\n",
              "      <td>1</td>\n",
              "      <td>NaN</td>\n",
              "      <td>NaN</td>\n",
              "      <td>NaN</td>\n",
              "      <td>0</td>\n",
              "      <td>1</td>\n",
              "    </tr>\n",
              "  </tbody>\n",
              "</table>\n",
              "</div>"
            ],
            "text/plain": [
              "       page_id                                               name  \\\n",
              "16356   473710                       Yamata no Orichi (Earth-616)   \n",
              "16357   670512  Zero G. Priestly (Legion Personality) (Earth-616)   \n",
              "16358    12132                            Zora Loftus (Earth-616)   \n",
              "16359   727035                                   Agar (Earth-616)   \n",
              "16360   703546      Ana (Natasha Romanoff's neighbor) (Earth-616)   \n",
              "16361   713903                         Dante's mother (Earth-616)   \n",
              "16362   508693                               Farbauti (Earth-616)   \n",
              "16363   694577         Finch (Kate Bishop's neighbor) (Earth-616)   \n",
              "16364   655292              Jack O'Lantern (Impostor) (Earth-616)   \n",
              "16365   684262                                 K'thol (Earth-616)   \n",
              "16366   643435            Karen (Hijack's girlfriend) (Earth-616)   \n",
              "16367   694583        Marcus (Kate Bishop's neighbor) (Earth-616)   \n",
              "16368   703892               Marcy (Offer's employee) (Earth-616)   \n",
              "16369   660799                         Melanie Kapoor (Earth-616)   \n",
              "16370   674414                       Phoenix's Shadow (Earth-616)   \n",
              "16371   657508                                 Ru'ach (Earth-616)   \n",
              "16372   665474                    Thane (Thanos' son) (Earth-616)   \n",
              "16373   695217                      Tinkerer (Skrull) (Earth-616)   \n",
              "16374   708811                     TK421 (Spiderling) (Earth-616)   \n",
              "16375   673702                              Yologarch (Earth-616)   \n",
              "\n",
              "                                                 urlslug                ID  \\\n",
              "16356                     \\/Yamata_no_Orichi_(Earth-616)   Public Identity   \n",
              "16357  \\/Zero_G._Priestly_(Legion_Personality)_(Earth...   Secret Identity   \n",
              "16358                          \\/Zora_Loftus_(Earth-616)   Secret Identity   \n",
              "16359                                 \\/Agar_(Earth-616)  No Dual Identity   \n",
              "16360  \\/Ana_(Natasha_Romanoff%27s_neighbor)_(Earth-616)  No Dual Identity   \n",
              "16361                     \\/Dante%27s_mother_(Earth-616)  No Dual Identity   \n",
              "16362                             \\/Farbauti_(Earth-616)   Public Identity   \n",
              "16363     \\/Finch_(Kate_Bishop%27s_neighbor)_(Earth-616)   Public Identity   \n",
              "16364          \\/Jack_O%27Lantern_(Impostor)_(Earth-616)   Secret Identity   \n",
              "16365                             \\/K%27thol_(Earth-616)               NaN   \n",
              "16366        \\/Karen_(Hijack%27s_girlfriend)_(Earth-616)   Public Identity   \n",
              "16367    \\/Marcus_(Kate_Bishop%27s_neighbor)_(Earth-616)   Public Identity   \n",
              "16368           \\/Marcy_(Offer%27s_employee)_(Earth-616)   Public Identity   \n",
              "16369                       \\/Melanie_Kapoor_(Earth-616)   Public Identity   \n",
              "16370                   \\/Phoenix%27s_Shadow_(Earth-616)               NaN   \n",
              "16371                             \\/Ru%27ach_(Earth-616)  No Dual Identity   \n",
              "16372                \\/Thane_(Thanos%27_son)_(Earth-616)  No Dual Identity   \n",
              "16373                    \\/Tinkerer_(Skrull)_(Earth-616)   Secret Identity   \n",
              "16374                   \\/TK421_(Spiderling)_(Earth-616)   Secret Identity   \n",
              "16375                            \\/Yologarch_(Earth-616)               NaN   \n",
              "\n",
              "                    ALIGN         EYE        HAIR                SEX  \\\n",
              "16356      Bad Characters         NaN     No Hair    Male Characters   \n",
              "16357  Neutral Characters         NaN         NaN    Male Characters   \n",
              "16358      Bad Characters         NaN  Blond Hair  Female Characters   \n",
              "16359      Bad Characters  Black Eyes     No Hair    Male Characters   \n",
              "16360     Good Characters  Black Eyes   Grey Hair  Female Characters   \n",
              "16361  Neutral Characters         NaN         NaN  Female Characters   \n",
              "16362      Bad Characters    Red Eyes         NaN  Female Characters   \n",
              "16363     Good Characters  Black Eyes        Bald    Male Characters   \n",
              "16364      Bad Characters  Hazel Eyes        Bald    Male Characters   \n",
              "16365     Good Characters         NaN         NaN    Male Characters   \n",
              "16366  Neutral Characters  Brown Eyes  Black Hair  Female Characters   \n",
              "16367     Good Characters  Hazel Eyes        Bald    Male Characters   \n",
              "16368  Neutral Characters         NaN  Brown Hair  Female Characters   \n",
              "16369     Good Characters   Blue Eyes  Black Hair  Female Characters   \n",
              "16370  Neutral Characters         NaN         NaN                NaN   \n",
              "16371      Bad Characters  Green Eyes     No Hair    Male Characters   \n",
              "16372     Good Characters   Blue Eyes        Bald    Male Characters   \n",
              "16373      Bad Characters  Black Eyes        Bald    Male Characters   \n",
              "16374  Neutral Characters         NaN         NaN    Male Characters   \n",
              "16375      Bad Characters         NaN         NaN                NaN   \n",
              "\n",
              "                         GSM  ALIVE  APPEARANCES FIRST APPEARANCE  Year  \\\n",
              "16356                    NaN      1          NaN              NaN   NaN   \n",
              "16357                    NaN      1          NaN              NaN   NaN   \n",
              "16358                    NaN      1          NaN              NaN   NaN   \n",
              "16359                    NaN      1          NaN              NaN   NaN   \n",
              "16360                    NaN      1          NaN              NaN   NaN   \n",
              "16361                    NaN      0          NaN              NaN   NaN   \n",
              "16362                    NaN      1          NaN              NaN   NaN   \n",
              "16363  Homosexual Characters      1          NaN              NaN   NaN   \n",
              "16364                    NaN      1          NaN              NaN   NaN   \n",
              "16365                    NaN      0          NaN              NaN   NaN   \n",
              "16366                    NaN      1          NaN              NaN   NaN   \n",
              "16367  Homosexual Characters      1          NaN              NaN   NaN   \n",
              "16368                    NaN      1          NaN              NaN   NaN   \n",
              "16369                    NaN      1          NaN              NaN   NaN   \n",
              "16370                    NaN      1          NaN              NaN   NaN   \n",
              "16371                    NaN      1          NaN              NaN   NaN   \n",
              "16372                    NaN      1          NaN              NaN   NaN   \n",
              "16373                    NaN      1          NaN              NaN   NaN   \n",
              "16374                    NaN      1          NaN              NaN   NaN   \n",
              "16375                    NaN      1          NaN              NaN   NaN   \n",
              "\n",
              "       Deceased Characters  Living Characters  \n",
              "16356                    0                  1  \n",
              "16357                    0                  1  \n",
              "16358                    0                  1  \n",
              "16359                    0                  1  \n",
              "16360                    0                  1  \n",
              "16361                    1                  0  \n",
              "16362                    0                  1  \n",
              "16363                    0                  1  \n",
              "16364                    0                  1  \n",
              "16365                    1                  0  \n",
              "16366                    0                  1  \n",
              "16367                    0                  1  \n",
              "16368                    0                  1  \n",
              "16369                    0                  1  \n",
              "16370                    0                  1  \n",
              "16371                    0                  1  \n",
              "16372                    0                  1  \n",
              "16373                    0                  1  \n",
              "16374                    0                  1  \n",
              "16375                    0                  1  "
            ]
          },
          "metadata": {
            "tags": []
          },
          "execution_count": 101
        }
      ]
    },
    {
      "cell_type": "code",
      "metadata": {
        "id": "xp8TF7LbD8KQ",
        "colab_type": "code",
        "colab": {}
      },
      "source": [
        ""
      ],
      "execution_count": 0,
      "outputs": []
    }
  ]
}